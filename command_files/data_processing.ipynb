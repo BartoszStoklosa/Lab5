{
 "cells": [
  {
   "cell_type": "markdown",
   "metadata": {},
   "source": [
    "# Sprawozdanie Lab 5\n",
    "\n",
    "**Bartosz Stokłosa**\n",
    "**Grupa 4, czwartek 8:30**"
   ]
  },
  {
   "cell_type": "code",
   "execution_count": 12,
   "metadata": {},
   "outputs": [],
   "source": [
    "#imports\n",
    "import os\n",
    "import pandas as pd\n",
    "#reading file\n",
    "csvFilePath = os.getcwd()[:-13] + \"Originaldata\\\\drinks.csv\"\n",
    "drinkscsv = pd.read_csv(csvFilePath)\n",
    "#creating DF\n",
    "drinksDF = pd.DataFrame(drinkscsv)\n",
    "# separating servings\n",
    "servingsDF = drinksDF.drop(['total_litres_of_pure_alcohol'],axis=1) \n",
    "#separating total_litres_of_pure_alcohol \n",
    "pureAlcoholDF = drinksDF.drop(['beer_servings',  'spirit_servings',  'wine_servings'], axis=1)\n",
    "# getting documents folder path\n",
    "documentsFilePath = os.getcwd()[:-13] + \"documents\\\\\"\n",
    "#saving servings csv\n",
    "servingsDF.to_csv('{}servings.csv'.format(documentsFilePath))\n",
    "#saving pure Alkohol csv\n",
    "pureAlcoholDF.to_csv('{}pureAlcohol.csv'.format(documentsFilePath))\n"
   ]
  },
  {
   "cell_type": "markdown",
   "metadata": {},
   "source": [
    "## Wnioski:\n",
    "\n",
    "* Labolatorium odbyło się bez problemów ćwiczenie w porównaniu do innych grup wydawało sie wyjątkowo proste nie było żadnych danych do usuwania ani separowania "
   ]
  }
 ],
 "metadata": {
  "kernelspec": {
   "display_name": "Python 3.8.8 ('base')",
   "language": "python",
   "name": "python3"
  },
  "language_info": {
   "codemirror_mode": {
    "name": "ipython",
    "version": 3
   },
   "file_extension": ".py",
   "mimetype": "text/x-python",
   "name": "python",
   "nbconvert_exporter": "python",
   "pygments_lexer": "ipython3",
   "version": "3.8.8"
  },
  "orig_nbformat": 4,
  "vscode": {
   "interpreter": {
    "hash": "ef90a757007ac2a3d514acded287cab365649e214908de8fd4d5036d287083aa"
   }
  }
 },
 "nbformat": 4,
 "nbformat_minor": 2
}
